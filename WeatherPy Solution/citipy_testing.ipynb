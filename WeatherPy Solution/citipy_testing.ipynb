{
 "cells": [
  {
   "cell_type": "markdown",
   "metadata": {},
   "source": [
    "## Testing\n",
    "\n",
    "testing citipy and different calls and stuff. because sometimes you want to know what the inside of a person's mind looks like."
   ]
  },
  {
   "cell_type": "code",
   "execution_count": 1,
   "metadata": {},
   "outputs": [],
   "source": [
    "import random\n",
    "import numpy as np\n",
    "from citipy import citipy\n",
    "import openweathermapy.core as ow\n",
    "import pandas as pd\n",
    "import matplotlib.pyplot as plt\n",
    "import requests\n",
    "\n",
    "#openweathermap api key\n",
    "ow_api = \"25bc90a1196e6f153eece0bc0b0fc9eb\"\n",
    "#ow settings\n",
    "settings = {\"units\": \"imperial\", \"appid\": ow_api}"
   ]
  },
  {
   "cell_type": "code",
   "execution_count": 2,
   "metadata": {},
   "outputs": [
    {
     "data": {
      "text/plain": [
       "[{'clouds': {'all': 90},\n",
       "  'coord': {'lat': 40.4862, 'lon': -74.4519},\n",
       "  'dt': 1529679000,\n",
       "  'id': 5101717,\n",
       "  'main': {'humidity': 64,\n",
       "   'pressure': 1016,\n",
       "   'temp': 69.89,\n",
       "   'temp_max': 71.6,\n",
       "   'temp_min': 66.2},\n",
       "  'name': 'New Brunswick',\n",
       "  'rain': None,\n",
       "  'snow': None,\n",
       "  'sys': {'country': 'US'},\n",
       "  'weather': [{'description': 'overcast clouds',\n",
       "    'icon': '04d',\n",
       "    'id': 804,\n",
       "    'main': 'Clouds'}],\n",
       "  'wind': {'deg': 130, 'speed': 10.29}},\n",
       " {'clouds': {'all': 75},\n",
       "  'coord': {'lat': 39.9442, 'lon': -86.5228},\n",
       "  'dt': 1529679300,\n",
       "  'id': 4918273,\n",
       "  'main': {'humidity': 88,\n",
       "   'pressure': 1007,\n",
       "   'temp': 72.52,\n",
       "   'temp_max': 73.4,\n",
       "   'temp_min': 69.8},\n",
       "  'name': 'New Brunswick',\n",
       "  'rain': None,\n",
       "  'snow': None,\n",
       "  'sys': {'country': 'US'},\n",
       "  'weather': [{'description': 'broken clouds',\n",
       "    'icon': '04d',\n",
       "    'id': 803,\n",
       "    'main': 'Clouds'}],\n",
       "  'wind': {'deg': 180, 'speed': 3.36}},\n",
       " {'clouds': {'all': 90},\n",
       "  'coord': {'lat': 39.2059, 'lon': -87.1215},\n",
       "  'dt': 1529680020,\n",
       "  'id': 4260453,\n",
       "  'main': {'humidity': 88,\n",
       "   'pressure': 1007,\n",
       "   'temp': 70.7,\n",
       "   'temp_max': 71.6,\n",
       "   'temp_min': 69.8},\n",
       "  'name': 'New Brunswick',\n",
       "  'rain': None,\n",
       "  'snow': None,\n",
       "  'sys': {'country': 'US'},\n",
       "  'weather': [{'description': 'light rain',\n",
       "    'icon': '10d',\n",
       "    'id': 500,\n",
       "    'main': 'Rain'}],\n",
       "  'wind': {'deg': 170, 'speed': 4.7}}]"
      ]
     },
     "execution_count": 2,
     "metadata": {},
     "output_type": "execute_result"
    }
   ],
   "source": [
    "#owm for new brunswick\n",
    "data_nb = ow.find_city(\"New Brunswick\", **settings)\n",
    "data_nb"
   ]
  },
  {
   "cell_type": "code",
   "execution_count": 3,
   "metadata": {},
   "outputs": [
    {
     "data": {
      "text/plain": [
       "{'base': 'stations',\n",
       " 'clouds': {'all': 90},\n",
       " 'cod': 200,\n",
       " 'coord': {'lat': 40.49, 'lon': -74.45},\n",
       " 'dt': 1529679000,\n",
       " 'id': 5101717,\n",
       " 'main': {'humidity': 64,\n",
       "  'pressure': 1016,\n",
       "  'temp': 69.89,\n",
       "  'temp_max': 71.6,\n",
       "  'temp_min': 66.2},\n",
       " 'name': 'New Brunswick',\n",
       " 'sys': {'country': 'US',\n",
       "  'id': 1972,\n",
       "  'message': 0.0063,\n",
       "  'sunrise': 1529659674,\n",
       "  'sunset': 1529713921,\n",
       "  'type': 1},\n",
       " 'visibility': 16093,\n",
       " 'weather': [{'description': 'overcast clouds',\n",
       "   'icon': '04d',\n",
       "   'id': 804,\n",
       "   'main': 'Clouds'}],\n",
       " 'wind': {'deg': 130, 'speed': 10.29}}"
      ]
     },
     "execution_count": 3,
     "metadata": {},
     "output_type": "execute_result"
    }
   ],
   "source": [
    "data_nb2 = ow.get_current(\"New Brunswick\", **settings)\n",
    "data_nb2"
   ]
  },
  {
   "cell_type": "code",
   "execution_count": 4,
   "metadata": {},
   "outputs": [
    {
     "data": {
      "text/plain": [
       "'overcast clouds'"
      ]
     },
     "execution_count": 4,
     "metadata": {},
     "output_type": "execute_result"
    }
   ],
   "source": [
    "data_nb2['weather'][0]['description']"
   ]
  },
  {
   "cell_type": "code",
   "execution_count": 5,
   "metadata": {},
   "outputs": [],
   "source": [
    "# lathome = data_nb['coord']['lat']\n",
    "# lnghome = data_nb['coord']['lon']\n",
    "\n",
    "# latlng = [lathome, lnghome]\n",
    "# latlng"
   ]
  },
  {
   "cell_type": "code",
   "execution_count": 6,
   "metadata": {},
   "outputs": [
    {
     "name": "stdout",
     "output_type": "stream",
     "text": [
      "I live in new brunswick, us\n"
     ]
    }
   ],
   "source": [
    "#return on citipy\n",
    "city = citipy.nearest_city(40.49, -74.45)\n",
    "name = city.city_name\n",
    "country = city.country_code\n",
    "\n",
    "print(f\"I live in {name}, {country}\")"
   ]
  },
  {
   "cell_type": "code",
   "execution_count": 7,
   "metadata": {},
   "outputs": [
    {
     "data": {
      "text/plain": [
       "city       12\n",
       "country    12\n",
       "dtype: int64"
      ]
     },
     "execution_count": 7,
     "metadata": {},
     "output_type": "execute_result"
    }
   ],
   "source": [
    "#create a dataframe with a list of 100 random cities\n",
    "# randlat = random.uniform(-90, 90)\n",
    "# randlong = random.uniform(-180, 180)\n",
    "# city = citipy.nearest_city(randlat, randlong)\n",
    "# cityname = city.city_name\n",
    "# citycountry = city.country_code\n",
    "\n",
    "citynames = []\n",
    "citycountries = []\n",
    "\n",
    "for i in range(12):\n",
    "    randlat = random.uniform(-90, 90)\n",
    "    randlong = random.uniform(-180, 180)\n",
    "    city = citipy.nearest_city(randlat, randlong)\n",
    "    citynames.append(city.city_name)\n",
    "    citycountries.append(city.country_code)\n",
    "    \n",
    "df = pd.DataFrame({'city': citynames,\n",
    "                  'country': citycountries})\n",
    "\n",
    "df.count()"
   ]
  },
  {
   "cell_type": "code",
   "execution_count": 8,
   "metadata": {},
   "outputs": [
    {
     "name": "stdout",
     "output_type": "stream",
     "text": [
      "there are 12 entries\n"
     ]
    }
   ],
   "source": [
    "df = df.drop_duplicates(keep=\"first\")\n",
    "yope = df['city'].count().sum()\n",
    "print(f\"there are {yope} entries\")"
   ]
  },
  {
   "cell_type": "code",
   "execution_count": 9,
   "metadata": {},
   "outputs": [
    {
     "data": {
      "text/html": [
       "<div>\n",
       "<style scoped>\n",
       "    .dataframe tbody tr th:only-of-type {\n",
       "        vertical-align: middle;\n",
       "    }\n",
       "\n",
       "    .dataframe tbody tr th {\n",
       "        vertical-align: top;\n",
       "    }\n",
       "\n",
       "    .dataframe thead th {\n",
       "        text-align: right;\n",
       "    }\n",
       "</style>\n",
       "<table border=\"1\" class=\"dataframe\">\n",
       "  <thead>\n",
       "    <tr style=\"text-align: right;\">\n",
       "      <th></th>\n",
       "      <th>city</th>\n",
       "      <th>country</th>\n",
       "      <th>latitude</th>\n",
       "      <th>longitude</th>\n",
       "      <th>temperature</th>\n",
       "      <th>humidity</th>\n",
       "      <th>cloudiness</th>\n",
       "      <th>wind speed</th>\n",
       "    </tr>\n",
       "  </thead>\n",
       "  <tbody>\n",
       "    <tr>\n",
       "      <th>0</th>\n",
       "      <td>Wajir</td>\n",
       "      <td>KE</td>\n",
       "      <td></td>\n",
       "      <td></td>\n",
       "      <td></td>\n",
       "      <td></td>\n",
       "      <td></td>\n",
       "      <td></td>\n",
       "    </tr>\n",
       "    <tr>\n",
       "      <th>1</th>\n",
       "      <td>Bluff</td>\n",
       "      <td>NZ</td>\n",
       "      <td></td>\n",
       "      <td></td>\n",
       "      <td></td>\n",
       "      <td></td>\n",
       "      <td></td>\n",
       "      <td></td>\n",
       "    </tr>\n",
       "    <tr>\n",
       "      <th>2</th>\n",
       "      <td>Tallahassee</td>\n",
       "      <td>US</td>\n",
       "      <td></td>\n",
       "      <td></td>\n",
       "      <td></td>\n",
       "      <td></td>\n",
       "      <td></td>\n",
       "      <td></td>\n",
       "    </tr>\n",
       "    <tr>\n",
       "      <th>3</th>\n",
       "      <td>Ushuaia</td>\n",
       "      <td>AR</td>\n",
       "      <td></td>\n",
       "      <td></td>\n",
       "      <td></td>\n",
       "      <td></td>\n",
       "      <td></td>\n",
       "      <td></td>\n",
       "    </tr>\n",
       "    <tr>\n",
       "      <th>4</th>\n",
       "      <td>Saint-Philippe</td>\n",
       "      <td>RE</td>\n",
       "      <td></td>\n",
       "      <td></td>\n",
       "      <td></td>\n",
       "      <td></td>\n",
       "      <td></td>\n",
       "      <td></td>\n",
       "    </tr>\n",
       "  </tbody>\n",
       "</table>\n",
       "</div>"
      ],
      "text/plain": [
       "             city country latitude longitude temperature humidity cloudiness  \\\n",
       "0           Wajir      KE                                                      \n",
       "1           Bluff      NZ                                                      \n",
       "2     Tallahassee      US                                                      \n",
       "3         Ushuaia      AR                                                      \n",
       "4  Saint-Philippe      RE                                                      \n",
       "\n",
       "  wind speed  \n",
       "0             \n",
       "1             \n",
       "2             \n",
       "3             \n",
       "4             "
      ]
     },
     "execution_count": 9,
     "metadata": {},
     "output_type": "execute_result"
    }
   ],
   "source": [
    "#add this stuff to the df\n",
    "df.set_index(['city', 'country'])\n",
    "df['latitude'] = ''\n",
    "df['longitude'] = ''\n",
    "df['temperature'] = ''\n",
    "df['humidity'] = ''\n",
    "df['cloudiness'] = ''\n",
    "df['wind speed'] = ''\n",
    "df['city'] = df['city'].str.title()\n",
    "df['country'] = df['country'].str.upper()\n",
    "df.head()"
   ]
  },
  {
   "cell_type": "code",
   "execution_count": 10,
   "metadata": {},
   "outputs": [
    {
     "data": {
      "text/plain": [
       "[{'clouds': {'all': 76},\n",
       "  'coord': {'lat': 1.7497, 'lon': 40.0663},\n",
       "  'dt': 1529680646,\n",
       "  'id': 178443,\n",
       "  'main': {'grnd_level': 994.6,\n",
       "   'humidity': 80,\n",
       "   'pressure': 994.6,\n",
       "   'sea_level': 1025.58,\n",
       "   'temp': 77.46,\n",
       "   'temp_max': 77.46,\n",
       "   'temp_min': 77.46},\n",
       "  'name': 'Wajir',\n",
       "  'rain': {'3h': 1.425},\n",
       "  'snow': None,\n",
       "  'sys': {'country': 'KE'},\n",
       "  'weather': [{'description': 'light rain',\n",
       "    'icon': '10d',\n",
       "    'id': 500,\n",
       "    'main': 'Rain'}],\n",
       "  'wind': {'deg': 168.002, 'speed': 15.79}}]"
      ]
     },
     "execution_count": 10,
     "metadata": {},
     "output_type": "execute_result"
    }
   ],
   "source": [
    "#this takes the first element under city and the first element under country then returns its data using openweathermaps\n",
    "hey = df['city'][0] + ',' + df['country'][0]\n",
    "data = ow.find_city(hey, **settings)\n",
    "data\n",
    "\n",
    "#then we can add that data to the dataframe\n",
    "# df['temperature'][0] = data[0]['main']['temp']\n",
    "# df.head()"
   ]
  },
  {
   "cell_type": "code",
   "execution_count": 11,
   "metadata": {},
   "outputs": [
    {
     "data": {
      "text/html": [
       "<div>\n",
       "<style scoped>\n",
       "    .dataframe tbody tr th:only-of-type {\n",
       "        vertical-align: middle;\n",
       "    }\n",
       "\n",
       "    .dataframe tbody tr th {\n",
       "        vertical-align: top;\n",
       "    }\n",
       "\n",
       "    .dataframe thead th {\n",
       "        text-align: right;\n",
       "    }\n",
       "</style>\n",
       "<table border=\"1\" class=\"dataframe\">\n",
       "  <thead>\n",
       "    <tr style=\"text-align: right;\">\n",
       "      <th></th>\n",
       "      <th>city</th>\n",
       "      <th>country</th>\n",
       "      <th>latitude</th>\n",
       "      <th>longitude</th>\n",
       "      <th>temperature</th>\n",
       "      <th>humidity</th>\n",
       "      <th>cloudiness</th>\n",
       "      <th>wind speed</th>\n",
       "    </tr>\n",
       "  </thead>\n",
       "  <tbody>\n",
       "    <tr>\n",
       "      <th>0</th>\n",
       "      <td>Wajir</td>\n",
       "      <td>KE</td>\n",
       "      <td>1.7497</td>\n",
       "      <td>40.0663</td>\n",
       "      <td>77.46</td>\n",
       "      <td>80</td>\n",
       "      <td>76</td>\n",
       "      <td>15.79</td>\n",
       "    </tr>\n",
       "    <tr>\n",
       "      <th>1</th>\n",
       "      <td>Bluff</td>\n",
       "      <td>NZ</td>\n",
       "      <td>-23.58</td>\n",
       "      <td>149.066</td>\n",
       "      <td>56.22</td>\n",
       "      <td>93</td>\n",
       "      <td>0</td>\n",
       "      <td>8.52</td>\n",
       "    </tr>\n",
       "    <tr>\n",
       "      <th>2</th>\n",
       "      <td>Tallahassee</td>\n",
       "      <td>US</td>\n",
       "      <td>30.4381</td>\n",
       "      <td>-84.281</td>\n",
       "      <td>79.36</td>\n",
       "      <td>100</td>\n",
       "      <td>75</td>\n",
       "      <td>6.17</td>\n",
       "    </tr>\n",
       "    <tr>\n",
       "      <th>3</th>\n",
       "      <td>Ushuaia</td>\n",
       "      <td>AR</td>\n",
       "      <td>-54.807</td>\n",
       "      <td>-68.3074</td>\n",
       "      <td>23.58</td>\n",
       "      <td>85</td>\n",
       "      <td>90</td>\n",
       "      <td>20.8</td>\n",
       "    </tr>\n",
       "    <tr>\n",
       "      <th>4</th>\n",
       "      <td>Saint-Philippe</td>\n",
       "      <td>RE</td>\n",
       "      <td>45.3584</td>\n",
       "      <td>-73.4791</td>\n",
       "      <td>67.51</td>\n",
       "      <td>45</td>\n",
       "      <td>1</td>\n",
       "      <td>4.38</td>\n",
       "    </tr>\n",
       "  </tbody>\n",
       "</table>\n",
       "</div>"
      ],
      "text/plain": [
       "             city country latitude longitude temperature humidity cloudiness  \\\n",
       "0           Wajir      KE   1.7497   40.0663       77.46       80         76   \n",
       "1           Bluff      NZ   -23.58   149.066       56.22       93          0   \n",
       "2     Tallahassee      US  30.4381   -84.281       79.36      100         75   \n",
       "3         Ushuaia      AR  -54.807  -68.3074       23.58       85         90   \n",
       "4  Saint-Philippe      RE  45.3584  -73.4791       67.51       45          1   \n",
       "\n",
       "  wind speed  \n",
       "0      15.79  \n",
       "1       8.52  \n",
       "2       6.17  \n",
       "3       20.8  \n",
       "4       4.38  "
      ]
     },
     "execution_count": 11,
     "metadata": {},
     "output_type": "execute_result"
    }
   ],
   "source": [
    "counter = 0\n",
    "\n",
    "for index, row in df.iterrows():\n",
    "#     print(index, row['city'], row['country'])\n",
    "#     #create string for data\n",
    "    cityloc = row['city']\n",
    "    data = ow.find_city(cityloc, **settings)\n",
    "#     city = row['city']\n",
    "#     country = row['country']\n",
    "#     url = \"https://api.openweathermap.org/data/2.5/weather?\"\n",
    "#     queryurl = f\"{url}appid={ow_api}&units=Imperial&q={city},{country}\"\n",
    "# #     print(\"now retrieving city # \" + str(counter))\n",
    "# #     print(queryurl)\n",
    "# #     counter += 1\n",
    "    \n",
    "#     data = requests.get(queryurl).json()\n",
    "\n",
    "    try:\n",
    "        row['temperature'] = data[0]['main']['temp']\n",
    "        row['humidity'] = data[0]['main']['humidity']\n",
    "        row['cloudiness'] = data[0]['clouds']['all']\n",
    "        row['wind speed'] = data[0]['wind']['speed']\n",
    "        row['latitude'] = data[0]['coord']['lat']\n",
    "        row['longitude'] = data[0]['coord']['lon']\n",
    "    except:\n",
    "        row['latitude'] = np.NaN\n",
    "        print(f\"Missing data for {row['city']}, {row['country']}... skipping...\")\n",
    "    \n",
    "df.head()"
   ]
  },
  {
   "cell_type": "code",
   "execution_count": 12,
   "metadata": {},
   "outputs": [
    {
     "data": {
      "text/html": [
       "<div>\n",
       "<style scoped>\n",
       "    .dataframe tbody tr th:only-of-type {\n",
       "        vertical-align: middle;\n",
       "    }\n",
       "\n",
       "    .dataframe tbody tr th {\n",
       "        vertical-align: top;\n",
       "    }\n",
       "\n",
       "    .dataframe thead th {\n",
       "        text-align: right;\n",
       "    }\n",
       "</style>\n",
       "<table border=\"1\" class=\"dataframe\">\n",
       "  <thead>\n",
       "    <tr style=\"text-align: right;\">\n",
       "      <th></th>\n",
       "      <th>city</th>\n",
       "      <th>country</th>\n",
       "      <th>latitude</th>\n",
       "      <th>longitude</th>\n",
       "      <th>temperature</th>\n",
       "      <th>humidity</th>\n",
       "      <th>cloudiness</th>\n",
       "      <th>wind speed</th>\n",
       "    </tr>\n",
       "  </thead>\n",
       "  <tbody>\n",
       "    <tr>\n",
       "      <th>0</th>\n",
       "      <td>Wajir</td>\n",
       "      <td>KE</td>\n",
       "      <td>1.7497</td>\n",
       "      <td>40.0663</td>\n",
       "      <td>77.46</td>\n",
       "      <td>80</td>\n",
       "      <td>76</td>\n",
       "      <td>15.79</td>\n",
       "    </tr>\n",
       "    <tr>\n",
       "      <th>1</th>\n",
       "      <td>Bluff</td>\n",
       "      <td>NZ</td>\n",
       "      <td>-23.58</td>\n",
       "      <td>149.066</td>\n",
       "      <td>56.22</td>\n",
       "      <td>93</td>\n",
       "      <td>0</td>\n",
       "      <td>8.52</td>\n",
       "    </tr>\n",
       "    <tr>\n",
       "      <th>2</th>\n",
       "      <td>Tallahassee</td>\n",
       "      <td>US</td>\n",
       "      <td>30.4381</td>\n",
       "      <td>-84.281</td>\n",
       "      <td>79.36</td>\n",
       "      <td>100</td>\n",
       "      <td>75</td>\n",
       "      <td>6.17</td>\n",
       "    </tr>\n",
       "    <tr>\n",
       "      <th>3</th>\n",
       "      <td>Ushuaia</td>\n",
       "      <td>AR</td>\n",
       "      <td>-54.807</td>\n",
       "      <td>-68.3074</td>\n",
       "      <td>23.58</td>\n",
       "      <td>85</td>\n",
       "      <td>90</td>\n",
       "      <td>20.8</td>\n",
       "    </tr>\n",
       "    <tr>\n",
       "      <th>4</th>\n",
       "      <td>Saint-Philippe</td>\n",
       "      <td>RE</td>\n",
       "      <td>45.3584</td>\n",
       "      <td>-73.4791</td>\n",
       "      <td>67.51</td>\n",
       "      <td>45</td>\n",
       "      <td>1</td>\n",
       "      <td>4.38</td>\n",
       "    </tr>\n",
       "    <tr>\n",
       "      <th>5</th>\n",
       "      <td>Katsuura</td>\n",
       "      <td>JP</td>\n",
       "      <td>33.9258</td>\n",
       "      <td>134.505</td>\n",
       "      <td>68.28</td>\n",
       "      <td>89</td>\n",
       "      <td>92</td>\n",
       "      <td>4.5</td>\n",
       "    </tr>\n",
       "    <tr>\n",
       "      <th>6</th>\n",
       "      <td>Tiksi</td>\n",
       "      <td>RU</td>\n",
       "      <td>71.6366</td>\n",
       "      <td>128.869</td>\n",
       "      <td>54.6</td>\n",
       "      <td>67</td>\n",
       "      <td>56</td>\n",
       "      <td>2.93</td>\n",
       "    </tr>\n",
       "    <tr>\n",
       "      <th>7</th>\n",
       "      <td>Longyearbyen</td>\n",
       "      <td>SJ</td>\n",
       "      <td>78.2198</td>\n",
       "      <td>15.6349</td>\n",
       "      <td>44.6</td>\n",
       "      <td>75</td>\n",
       "      <td>20</td>\n",
       "      <td>6.93</td>\n",
       "    </tr>\n",
       "    <tr>\n",
       "      <th>8</th>\n",
       "      <td>Cidreira</td>\n",
       "      <td>BR</td>\n",
       "      <td>-30.1658</td>\n",
       "      <td>-50.2184</td>\n",
       "      <td>55.86</td>\n",
       "      <td>89</td>\n",
       "      <td>0</td>\n",
       "      <td>7.96</td>\n",
       "    </tr>\n",
       "    <tr>\n",
       "      <th>9</th>\n",
       "      <td>Mataura</td>\n",
       "      <td>PF</td>\n",
       "      <td>-46.1928</td>\n",
       "      <td>168.864</td>\n",
       "      <td>21.3</td>\n",
       "      <td>83</td>\n",
       "      <td>8</td>\n",
       "      <td>3.6</td>\n",
       "    </tr>\n",
       "    <tr>\n",
       "      <th>10</th>\n",
       "      <td>Rikitea</td>\n",
       "      <td>PF</td>\n",
       "      <td>-23.1203</td>\n",
       "      <td>-134.969</td>\n",
       "      <td>74.94</td>\n",
       "      <td>100</td>\n",
       "      <td>8</td>\n",
       "      <td>10.87</td>\n",
       "    </tr>\n",
       "    <tr>\n",
       "      <th>11</th>\n",
       "      <td>Sao Filipe</td>\n",
       "      <td>CV</td>\n",
       "      <td>14.8961</td>\n",
       "      <td>-24.4956</td>\n",
       "      <td>75.57</td>\n",
       "      <td>92</td>\n",
       "      <td>0</td>\n",
       "      <td>13.89</td>\n",
       "    </tr>\n",
       "  </tbody>\n",
       "</table>\n",
       "</div>"
      ],
      "text/plain": [
       "              city country latitude longitude temperature humidity cloudiness  \\\n",
       "0            Wajir      KE   1.7497   40.0663       77.46       80         76   \n",
       "1            Bluff      NZ   -23.58   149.066       56.22       93          0   \n",
       "2      Tallahassee      US  30.4381   -84.281       79.36      100         75   \n",
       "3          Ushuaia      AR  -54.807  -68.3074       23.58       85         90   \n",
       "4   Saint-Philippe      RE  45.3584  -73.4791       67.51       45          1   \n",
       "5         Katsuura      JP  33.9258   134.505       68.28       89         92   \n",
       "6            Tiksi      RU  71.6366   128.869        54.6       67         56   \n",
       "7     Longyearbyen      SJ  78.2198   15.6349        44.6       75         20   \n",
       "8         Cidreira      BR -30.1658  -50.2184       55.86       89          0   \n",
       "9          Mataura      PF -46.1928   168.864        21.3       83          8   \n",
       "10         Rikitea      PF -23.1203  -134.969       74.94      100          8   \n",
       "11      Sao Filipe      CV  14.8961  -24.4956       75.57       92          0   \n",
       "\n",
       "   wind speed  \n",
       "0       15.79  \n",
       "1        8.52  \n",
       "2        6.17  \n",
       "3        20.8  \n",
       "4        4.38  \n",
       "5         4.5  \n",
       "6        2.93  \n",
       "7        6.93  \n",
       "8        7.96  \n",
       "9         3.6  \n",
       "10      10.87  \n",
       "11      13.89  "
      ]
     },
     "execution_count": 12,
     "metadata": {},
     "output_type": "execute_result"
    }
   ],
   "source": [
    "df = df.dropna(axis=0, how=\"any\")\n",
    "df\n",
    "# df.isnull()"
   ]
  },
  {
   "cell_type": "code",
   "execution_count": 13,
   "metadata": {},
   "outputs": [
    {
     "data": {
      "image/png": "[encoded data removed]",
      "text/plain": [
       "<matplotlib.figure.Figure at 0x25f08bc9080>"
      ]
     },
     "metadata": {},
     "output_type": "display_data"
    }
   ],
   "source": [
    "#latitude vs temperature\n",
    "plt.scatter(df['latitude'], df['temperature'], marker=\"o\")\n",
    "\n",
    "plt.title(\"City Latitude vs. Max Temperature\")\n",
    "plt.ylabel(\"Temperature (F)\")\n",
    "plt.xlabel(\"Latitude\")\n",
    "plt.grid(True)\n",
    "\n",
    "plt.show()"
   ]
  },
  {
   "cell_type": "code",
   "execution_count": 14,
   "metadata": {},
   "outputs": [
    {
     "data": {
      "image/png": "[encoded data removed]",
      "text/plain": [
       "<matplotlib.figure.Figure at 0x25f08bc9c88>"
      ]
     },
     "metadata": {},
     "output_type": "display_data"
    }
   ],
   "source": [
    "#latitude vs humidity\n",
    "plt.scatter(df['latitude'], df['humidity'], marker=\"o\")\n",
    "\n",
    "plt.title(\"City Latitude vs. Humidity\")\n",
    "plt.ylabel(\"Temperature (F)\")\n",
    "plt.xlabel(\"Humidity\")\n",
    "plt.grid(True)\n",
    "\n",
    "plt.show()"
   ]
  },
  {
   "cell_type": "code",
   "execution_count": 15,
   "metadata": {},
   "outputs": [
    {
     "data": {
      "image/png": "[encoded data removed]",
      "text/plain": [
       "<matplotlib.figure.Figure at 0x25f08cefda0>"
      ]
     },
     "metadata": {},
     "output_type": "display_data"
    }
   ],
   "source": [
    "#latitude vs cloudiness\n",
    "plt.scatter(df['latitude'], df['cloudiness'], marker=\"o\")\n",
    "\n",
    "plt.title(\"City Latitude vs. Cloudiness\")\n",
    "plt.ylabel(\"Temperature (F)\")\n",
    "plt.xlabel(\"Cloudiness\")\n",
    "plt.grid(True)\n",
    "\n",
    "plt.show()"
   ]
  },
  {
   "cell_type": "code",
   "execution_count": 16,
   "metadata": {},
   "outputs": [
    {
     "data": {
      "image/png": "[encoded data removed]",
      "text/plain": [
       "<matplotlib.figure.Figure at 0x25f08fa6ef0>"
      ]
     },
     "metadata": {},
     "output_type": "display_data"
    }
   ],
   "source": [
    "#latitude vs wind speed\n",
    "plt.scatter(df['latitude'], df['wind speed'], marker=\"o\")\n",
    "\n",
    "plt.title(\"City Latitude vs. Wind Speed\")\n",
    "plt.ylabel(\"Temperature (F)\")\n",
    "plt.xlabel(\"Wind Speed\")\n",
    "plt.grid(True)\n",
    "\n",
    "plt.show()"
   ]
  },
  {
   "cell_type": "code",
   "execution_count": 19,
   "metadata": {},
   "outputs": [
    {
     "ename": "NameError",
     "evalue": "name 'wrap_get' is not defined",
     "output_type": "error",
     "traceback": [
      "\u001b[1;31m---------------------------------------------------------------------------\u001b[0m",
      "\u001b[1;31mNameError\u001b[0m                                 Traceback (most recent call last)",
      "\u001b[1;32m<ipython-input-19-83075e8abfce>\u001b[0m in \u001b[0;36m<module>\u001b[1;34m()\u001b[0m\n\u001b[0;32m      1\u001b[0m \u001b[0mow\u001b[0m\u001b[1;33m.\u001b[0m\u001b[0mBASE_URL\u001b[0m\u001b[1;33m\u001b[0m\u001b[0m\n\u001b[1;32m----> 2\u001b[1;33m \u001b[0mf\u001b[0m \u001b[1;33m=\u001b[0m \u001b[0mwrap_get\u001b[0m\u001b[1;33m(\u001b[0m\u001b[1;34m\"weather\"\u001b[0m\u001b[1;33m,\u001b[0m \u001b[0mdict\u001b[0m\u001b[1;33m(\u001b[0m\u001b[0munits\u001b[0m\u001b[1;33m=\u001b[0m\u001b[1;34m'metric'\u001b[0m\u001b[1;33m)\u001b[0m\u001b[1;33m)\u001b[0m\u001b[1;33m\u001b[0m\u001b[0m\n\u001b[0m\u001b[0;32m      3\u001b[0m \u001b[0mdata\u001b[0m \u001b[1;33m=\u001b[0m \u001b[0mf\u001b[0m\u001b[1;33m(\u001b[0m\u001b[1;34m\"London,UK\"\u001b[0m\u001b[1;33m)\u001b[0m\u001b[1;33m\u001b[0m\u001b[0m\n\u001b[0;32m      4\u001b[0m \u001b[0mdata\u001b[0m\u001b[1;33m\u001b[0m\u001b[0m\n",
      "\u001b[1;31mNameError\u001b[0m: name 'wrap_get' is not defined"
     ]
    }
   ],
   "source": [
    "ow.BASE_URL\n",
    "f = wrap_get(\"weather\", dict(units='metric'))\n",
    "data = f(\"London,UK\")\n",
    "data"
   ]
  }
 ],
 "metadata": {
  "kernelspec": {
   "display_name": "Python 3",
   "language": "python",
   "name": "python3"
  },
  "language_info": {
   "codemirror_mode": {
    "name": "ipython",
    "version": 3
   },
   "file_extension": ".py",
   "mimetype": "text/x-python",
   "name": "python",
   "nbconvert_exporter": "python",
   "pygments_lexer": "ipython3",
   "version": "3.6.4"
  }
 },
 "nbformat": 4,
 "nbformat_minor": 2
}
